{
 "cells": [
  {
   "cell_type": "code",
   "execution_count": 14,
   "id": "3e7ad4c9-2b3c-430b-b1a8-ff970116bbea",
   "metadata": {},
   "outputs": [],
   "source": [
    "import importlib\n",
    "import Data"
   ]
  },
  {
   "cell_type": "code",
   "execution_count": 15,
   "id": "a9ea5b89-85ac-4e16-8eae-0904aabf1ad9",
   "metadata": {},
   "outputs": [
    {
     "data": {
      "text/plain": [
       "<module 'Data' from 'C:\\\\Users\\\\user\\\\Workspace\\\\AndroidSensorData\\\\Data.py'>"
      ]
     },
     "execution_count": 15,
     "metadata": {},
     "output_type": "execute_result"
    }
   ],
   "source": [
    "importlib.reload(Data)"
   ]
  },
  {
   "cell_type": "code",
   "execution_count": 16,
   "id": "e73e3b80-4309-4f2b-88c9-7dc955d6a587",
   "metadata": {},
   "outputs": [
    {
     "name": "stdout",
     "output_type": "stream",
     "text": [
      "None [0, 1, 2]\n"
     ]
    }
   ],
   "source": [
    "A = Data.SensorData()\n",
    "B = Data.SensorData(data=[0,1,2],time=[3,4,5])\n",
    "print(A.data, B.data)"
   ]
  },
  {
   "cell_type": "code",
   "execution_count": 17,
   "id": "c2f657fc-f76a-482e-80b3-713b03bb81e2",
   "metadata": {},
   "outputs": [
    {
     "name": "stdout",
     "output_type": "stream",
     "text": [
      "None [3, 4, 5]\n"
     ]
    }
   ],
   "source": [
    "print(A.time, B.time)"
   ]
  },
  {
   "cell_type": "code",
   "execution_count": 18,
   "id": "57ea43ac-c5c5-4988-a038-f00612cf90e4",
   "metadata": {},
   "outputs": [
    {
     "name": "stderr",
     "output_type": "stream",
     "text": [
      "C:\\Users\\user\\Workspace\\AndroidSensorData\\Data.py:115: UserWarning: time attirubte must be reassigned before using this instance!\n"
     ]
    }
   ],
   "source": [
    "del B.time"
   ]
  },
  {
   "cell_type": "code",
   "execution_count": 19,
   "id": "ad10e28a-2ab6-4546-ad45-bc3feddeb8aa",
   "metadata": {},
   "outputs": [
    {
     "data": {
      "text/plain": [
       "['_SensorData__data',\n",
       " '__class__',\n",
       " '__delattr__',\n",
       " '__dict__',\n",
       " '__dir__',\n",
       " '__doc__',\n",
       " '__eq__',\n",
       " '__format__',\n",
       " '__ge__',\n",
       " '__getattribute__',\n",
       " '__gt__',\n",
       " '__hash__',\n",
       " '__init__',\n",
       " '__init_subclass__',\n",
       " '__le__',\n",
       " '__lt__',\n",
       " '__module__',\n",
       " '__ne__',\n",
       " '__new__',\n",
       " '__reduce__',\n",
       " '__reduce_ex__',\n",
       " '__repr__',\n",
       " '__setattr__',\n",
       " '__sizeof__',\n",
       " '__str__',\n",
       " '__subclasshook__',\n",
       " '__weakref__',\n",
       " '_to_csv',\n",
       " '_to_feather',\n",
       " '_to_parquet',\n",
       " '_to_pickle',\n",
       " 'assign',\n",
       " 'data',\n",
       " 'load',\n",
       " 'time']"
      ]
     },
     "execution_count": 19,
     "metadata": {},
     "output_type": "execute_result"
    }
   ],
   "source": [
    "dir(B)"
   ]
  },
  {
   "cell_type": "code",
   "execution_count": null,
   "id": "4d535ea4-0c16-491d-8080-48df6374b10b",
   "metadata": {},
   "outputs": [],
   "source": []
  }
 ],
 "metadata": {
  "kernelspec": {
   "display_name": "Python 3 (ipykernel)",
   "language": "python",
   "name": "python3"
  },
  "language_info": {
   "codemirror_mode": {
    "name": "ipython",
    "version": 3
   },
   "file_extension": ".py",
   "mimetype": "text/x-python",
   "name": "python",
   "nbconvert_exporter": "python",
   "pygments_lexer": "ipython3",
   "version": "3.9.15"
  }
 },
 "nbformat": 4,
 "nbformat_minor": 5
}
