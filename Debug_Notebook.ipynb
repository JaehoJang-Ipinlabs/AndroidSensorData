{
 "cells": [
  {
   "cell_type": "code",
   "execution_count": 1,
   "id": "3e7ad4c9-2b3c-430b-b1a8-ff970116bbea",
   "metadata": {},
   "outputs": [],
   "source": [
    "import importlib\n",
    "import Data"
   ]
  },
  {
   "cell_type": "code",
   "execution_count": 2,
   "id": "a9ea5b89-85ac-4e16-8eae-0904aabf1ad9",
   "metadata": {},
   "outputs": [
    {
     "data": {
      "text/plain": [
       "<module 'Data' from 'C:\\\\Users\\\\user\\\\Workspace\\\\AndroidSensorData\\\\Data.py'>"
      ]
     },
     "execution_count": 2,
     "metadata": {},
     "output_type": "execute_result"
    }
   ],
   "source": [
    "importlib.reload(Data)"
   ]
  },
  {
   "cell_type": "code",
   "execution_count": 3,
   "id": "89204d99-e4f0-4aa2-b5cd-54e7f42f78aa",
   "metadata": {},
   "outputs": [
    {
     "name": "stderr",
     "output_type": "stream",
     "text": [
      "C:\\Users\\user\\Workspace\\AndroidSensorData\\Data.py:123: UserWarning: This method is on development!\n",
      "  warnings.warn('This method is on development!')\n"
     ]
    }
   ],
   "source": [
    "# SensorData class debugging\n",
    "# test __init__. __init__ method calles setter method of time and data property.\n",
    "A = Data.SensorData()\n",
    "B = Data.SensorData(data=[0,1,2],time=[3,4,5])"
   ]
  },
  {
   "cell_type": "code",
   "execution_count": 4,
   "id": "cd63bdb9-6df9-434c-80d6-e9e11324baec",
   "metadata": {},
   "outputs": [
    {
     "name": "stdout",
     "output_type": "stream",
     "text": [
      "None [3, 4, 5]\n",
      "None [0, 1, 2]\n"
     ]
    }
   ],
   "source": [
    "# test getter method of time and data property\n",
    "print(A.time, B.time) # prints a warning since time getter is not fully implemented.\n",
    "print(A.data, B.data)"
   ]
  },
  {
   "cell_type": "code",
   "execution_count": 5,
   "id": "57ea43ac-c5c5-4988-a038-f00612cf90e4",
   "metadata": {},
   "outputs": [
    {
     "name": "stderr",
     "output_type": "stream",
     "text": [
      "C:\\Users\\user\\Workspace\\AndroidSensorData\\Data.py:130: UserWarning: time attirubte must be reassigned before using this instance!\n",
      "  warnings.warn('time attirubte must be reassigned before using this instance!')\n",
      "C:\\Users\\user\\Workspace\\AndroidSensorData\\Data.py:87: UserWarning: data attirubte must be reassigned before using this instance!\n",
      "  warnings.warn('data attirubte must be reassigned before using this instance!')\n"
     ]
    }
   ],
   "source": [
    "# test deleter method of time and data property\n",
    "del A.time, B.time # prints a warning to remind the developer to reassigne value to time instance.\n",
    "del A.data, B.data # prints a warning to remind the developer to reassigne value to data instance."
   ]
  },
  {
   "cell_type": "code",
   "execution_count": null,
   "id": "2cac51a4-2c7a-4eb9-8dcc-65a29f3918aa",
   "metadata": {},
   "outputs": [],
   "source": []
  }
 ],
 "metadata": {
  "kernelspec": {
   "display_name": "Python 3 (ipykernel)",
   "language": "python",
   "name": "python3"
  },
  "language_info": {
   "codemirror_mode": {
    "name": "ipython",
    "version": 3
   },
   "file_extension": ".py",
   "mimetype": "text/x-python",
   "name": "python",
   "nbconvert_exporter": "python",
   "pygments_lexer": "ipython3",
   "version": "3.9.15"
  }
 },
 "nbformat": 4,
 "nbformat_minor": 5
}
